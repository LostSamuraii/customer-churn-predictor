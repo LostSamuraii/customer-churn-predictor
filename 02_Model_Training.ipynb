{
 "cells": [
  {
   "cell_type": "code",
   "execution_count": 2,
   "id": "a159f61b",
   "metadata": {},
   "outputs": [
    {
     "name": "stdout",
     "output_type": "stream",
     "text": [
      "Setup Complete!\n",
      "Preprocessed data successfully loaded.\n",
      "-------------------------------------------------\n",
      "Shape of training features (X_train): (5634, 30)\n",
      "Shape of testing features (X_test): (1409, 30)\n"
     ]
    }
   ],
   "source": [
    "# File: 02_Model_Training.ipynb\n",
    "\n",
    "# =============================================================================\n",
    "# PHASE 3: MODEL BUILDING AND TRAINING\n",
    "# =============================================================================\n",
    "\n",
    "# --- 1. SETUP ---\n",
    "\n",
    "# Import essential libraries\n",
    "import pandas as pd\n",
    "from sklearn.model_selection import train_test_split\n",
    "\n",
    "# Load our preprocessed data from the file we saved in the previous notebook\n",
    "df_encoded = pd.read_parquet('processed_data/churn_data_encoded.parquet')\n",
    "\n",
    "\n",
    "# --- 2. SPLITTING THE DATA ---\n",
    "\n",
    "# Separate features (X) and target (y)\n",
    "X = df_encoded.drop('Churn', axis=1)\n",
    "y = df_encoded['Churn']\n",
    "\n",
    "# Split into training and testing sets\n",
    "X_train, X_test, y_train, y_test = train_test_split(X, y, test_size=0.2, random_state=42)\n",
    "\n",
    "\n",
    "# --- 3. VERIFICATION ---\n",
    "print(\"Setup Complete!\")\n",
    "print(\"Preprocessed data successfully loaded.\")\n",
    "print(\"-------------------------------------------------\")\n",
    "print(\"Shape of training features (X_train):\", X_train.shape)\n",
    "print(\"Shape of testing features (X_test):\", X_test.shape)"
   ]
  },
  {
   "cell_type": "code",
   "execution_count": null,
   "id": "5200f089",
   "metadata": {},
   "outputs": [],
   "source": []
  }
 ],
 "metadata": {
  "kernelspec": {
   "display_name": "churn-project",
   "language": "python",
   "name": "python3"
  },
  "language_info": {
   "codemirror_mode": {
    "name": "ipython",
    "version": 3
   },
   "file_extension": ".py",
   "mimetype": "text/x-python",
   "name": "python",
   "nbconvert_exporter": "python",
   "pygments_lexer": "ipython3",
   "version": "3.10.0"
  }
 },
 "nbformat": 4,
 "nbformat_minor": 5
}
