{
 "cells": [
  {
   "cell_type": "code",
   "execution_count": 2,
   "id": "a159f61b",
   "metadata": {},
   "outputs": [
    {
     "name": "stdout",
     "output_type": "stream",
     "text": [
      "Setup Complete!\n",
      "Preprocessed data successfully loaded.\n",
      "-------------------------------------------------\n",
      "Shape of training features (X_train): (5634, 30)\n",
      "Shape of testing features (X_test): (1409, 30)\n"
     ]
    }
   ],
   "source": [
    "# File: 02_Model_Training.ipynb\n",
    "\n",
    "# =============================================================================\n",
    "# PHASE 3: MODEL BUILDING AND TRAINING\n",
    "# =============================================================================\n",
    "\n",
    "# --- 1. SETUP ---\n",
    "\n",
    "# Import essential libraries\n",
    "import pandas as pd\n",
    "from sklearn.model_selection import train_test_split\n",
    "\n",
    "# Load our preprocessed data from the file we saved in the previous notebook\n",
    "df_encoded = pd.read_parquet('processed_data/churn_data_encoded.parquet')\n",
    "\n",
    "\n",
    "# --- 2. SPLITTING THE DATA ---\n",
    "\n",
    "# Separate features (X) and target (y)\n",
    "X = df_encoded.drop('Churn', axis=1)\n",
    "y = df_encoded['Churn']\n",
    "\n",
    "# Split into training and testing sets\n",
    "X_train, X_test, y_train, y_test = train_test_split(X, y, test_size=0.2, random_state=42)\n",
    "\n",
    "\n",
    "# --- 3. VERIFICATION ---\n",
    "print(\"Setup Complete!\")\n",
    "print(\"Preprocessed data successfully loaded.\")\n",
    "print(\"-------------------------------------------------\")\n",
    "print(\"Shape of training features (X_train):\", X_train.shape)\n",
    "print(\"Shape of testing features (X_test):\", X_test.shape)"
   ]
  },
  {
   "cell_type": "code",
   "execution_count": 3,
   "id": "5200f089",
   "metadata": {},
   "outputs": [
    {
     "name": "stdout",
     "output_type": "stream",
     "text": [
      "Logistic Regression model trained successfully!\n"
     ]
    }
   ],
   "source": [
    "# --- 4. TRAIN A LOGISTIC REGRESSION MODEL ---\n",
    "\n",
    "# Import the necessary classes from scikit-learn\n",
    "from sklearn.preprocessing import StandardScaler\n",
    "from sklearn.linear_model import LogisticRegression\n",
    "\n",
    "# Step 1: Scale the features\n",
    "# ---------------------------\n",
    "# Create an instance of the StandardScaler\n",
    "scaler = StandardScaler()\n",
    "\n",
    "# Fit the scaler on the training data and transform it\n",
    "X_train_scaled = scaler.fit_transform(X_train)\n",
    "\n",
    "# Use the SAME fitted scaler to transform the test data\n",
    "X_test_scaled = scaler.transform(X_test)\n",
    "\n",
    "\n",
    "# Step 2: Train the Logistic Regression model\n",
    "# -------------------------------------------\n",
    "# Create an instance of the model\n",
    "# max_iter is increased to ensure the model has enough iterations to converge\n",
    "log_reg = LogisticRegression(max_iter=1000, random_state=42)\n",
    "\n",
    "# Train the model on the SCALED training data\n",
    "log_reg.fit(X_train_scaled, y_train)\n",
    "\n",
    "\n",
    "# --- 3. VERIFICATION ---\n",
    "print(\"Logistic Regression model trained successfully!\")"
   ]
  },
  {
   "cell_type": "code",
   "execution_count": 4,
   "id": "71088c7e",
   "metadata": {},
   "outputs": [
    {
     "name": "stdout",
     "output_type": "stream",
     "text": [
      "--- Logistic Regression Evaluation ---\n"
     ]
    },
    {
     "data": {
      "image/png": "[encoded data removed]",
      "text/plain": [
       "<Figure size 800x600 with 2 Axes>"
      ]
     },
     "metadata": {},
     "output_type": "display_data"
    },
    {
     "name": "stdout",
     "output_type": "stream",
     "text": [
      "Accuracy: 0.8204\n"
     ]
    }
   ],
   "source": [
    "# --- 5. EVALUATE THE LOGISTIC REGRESSION MODEL ---\n",
    "\n",
    "# Import the necessary evaluation metrics\n",
    "from sklearn.metrics import confusion_matrix, accuracy_score, classification_report\n",
    "import seaborn as sns\n",
    "import matplotlib.pyplot as plt\n",
    "\n",
    "# Step 1: Make predictions on the test data\n",
    "# -------------------------------------------\n",
    "y_pred_log_reg = log_reg.predict(X_test_scaled)\n",
    "\n",
    "\n",
    "# Step 2: Calculate the Confusion Matrix\n",
    "# ---------------------------------------\n",
    "print(\"--- Logistic Regression Evaluation ---\")\n",
    "cm = confusion_matrix(y_test, y_pred_log_reg)\n",
    "\n",
    "# Visualize the Confusion Matrix for better interpretation\n",
    "plt.figure(figsize=(8, 6))\n",
    "sns.heatmap(cm, annot=True, fmt='d', cmap='Blues',\n",
    "            xticklabels=['No Churn', 'Churn'],\n",
    "            yticklabels=['No Churn', 'Churn'])\n",
    "plt.xlabel('Predicted')\n",
    "plt.ylabel('Actual')\n",
    "plt.title('Confusion Matrix for Logistic Regression')\n",
    "plt.show()\n",
    "\n",
    "\n",
    "# Step 3: Calculate Accuracy\n",
    "# --------------------------\n",
    "accuracy = accuracy_score(y_test, y_pred_log_reg)\n",
    "print(f\"Accuracy: {accuracy:.4f}\")"
   ]
  },
  {
   "cell_type": "code",
   "execution_count": 5,
   "id": "d3db0ffa",
   "metadata": {},
   "outputs": [
    {
     "name": "stdout",
     "output_type": "stream",
     "text": [
      "\n",
      "Classification Report:\n",
      "              precision    recall  f1-score   support\n",
      "\n",
      "    No Churn       0.86      0.90      0.88      1036\n",
      "       Churn       0.69      0.60      0.64       373\n",
      "\n",
      "    accuracy                           0.82      1409\n",
      "   macro avg       0.77      0.75      0.76      1409\n",
      "weighted avg       0.81      0.82      0.82      1409\n",
      "\n"
     ]
    }
   ],
   "source": [
    "# Step 4: Generate a detailed Classification Report\n",
    "# --------------------------------------------------\n",
    "report = classification_report(y_test, y_pred_log_reg, target_names=['No Churn', 'Churn'])\n",
    "print(\"\\nClassification Report:\")\n",
    "print(report)"
   ]
  },
  {
   "cell_type": "code",
   "execution_count": 6,
   "id": "50721770",
   "metadata": {},
   "outputs": [
    {
     "name": "stdout",
     "output_type": "stream",
     "text": [
      "\n",
      "\n",
      "--- Random Forest Evaluation ---\n",
      "Random Forest model trained successfully!\n",
      "Accuracy: 0.7850\n",
      "\n",
      "Confusion Matrix:\n"
     ]
    },
    {
     "data": {
      "image/png": "[encoded data removed]",
      "text/plain": [
       "<Figure size 800x600 with 2 Axes>"
      ]
     },
     "metadata": {},
     "output_type": "display_data"
    },
    {
     "name": "stdout",
     "output_type": "stream",
     "text": [
      "\n",
      "Classification Report:\n",
      "              precision    recall  f1-score   support\n",
      "\n",
      "    No Churn       0.82      0.91      0.86      1036\n",
      "       Churn       0.64      0.44      0.52       373\n",
      "\n",
      "    accuracy                           0.78      1409\n",
      "   macro avg       0.73      0.67      0.69      1409\n",
      "weighted avg       0.77      0.78      0.77      1409\n",
      "\n"
     ]
    }
   ],
   "source": [
    "# --- 6. TRAIN AND EVALUATE A RANDOM FOREST MODEL ---\n",
    "\n",
    "# Import the model\n",
    "from sklearn.ensemble import RandomForestClassifier\n",
    "\n",
    "print(\"\\n\\n--- Random Forest Evaluation ---\")\n",
    "\n",
    "# Step 1: Create and Train the model\n",
    "# ------------------------------------\n",
    "# n_estimators is the number of trees in the forest.\n",
    "rf = RandomForestClassifier(n_estimators=100, random_state=42)\n",
    "\n",
    "# Train the model on the ORIGINAL (unscaled) training data\n",
    "rf.fit(X_train, y_train)\n",
    "print(\"Random Forest model trained successfully!\")\n",
    "\n",
    "\n",
    "# Step 2: Make predictions on the test data\n",
    "# -------------------------------------------\n",
    "y_pred_rf = rf.predict(X_test)\n",
    "\n",
    "\n",
    "# Step 3: Evaluate the model\n",
    "# ----------------------------\n",
    "# Accuracy\n",
    "accuracy_rf = accuracy_score(y_test, y_pred_rf)\n",
    "print(f\"Accuracy: {accuracy_rf:.4f}\")\n",
    "\n",
    "# Confusion Matrix\n",
    "print(\"\\nConfusion Matrix:\")\n",
    "cm_rf = confusion_matrix(y_test, y_pred_rf)\n",
    "plt.figure(figsize=(8, 6))\n",
    "sns.heatmap(cm_rf, annot=True, fmt='d', cmap='Greens',\n",
    "            xticklabels=['No Churn', 'Churn'],\n",
    "            yticklabels=['No Churn', 'Churn'])\n",
    "plt.xlabel('Predicted')\n",
    "plt.ylabel('Actual')\n",
    "plt.title('Confusion Matrix for Random Forest')\n",
    "plt.show()\n",
    "\n",
    "# Classification Report\n",
    "print(\"\\nClassification Report:\")\n",
    "report_rf = classification_report(y_test, y_pred_rf, target_names=['No Churn', 'Churn'])\n",
    "print(report_rf)"
   ]
  },
  {
   "cell_type": "code",
   "execution_count": 7,
   "id": "6b97087f",
   "metadata": {},
   "outputs": [
    {
     "name": "stdout",
     "output_type": "stream",
     "text": [
      "\n",
      "\n",
      "--- Improved Random Forest Evaluation (with class_weight='balanced') ---\n",
      "Balanced Random Forest model trained successfully!\n",
      "Accuracy: 0.7942\n",
      "\n",
      "Classification Report:\n",
      "              precision    recall  f1-score   support\n",
      "\n",
      "    No Churn       0.82      0.92      0.87      1036\n",
      "       Churn       0.66      0.45      0.54       373\n",
      "\n",
      "    accuracy                           0.79      1409\n",
      "   macro avg       0.74      0.68      0.70      1409\n",
      "weighted avg       0.78      0.79      0.78      1409\n",
      "\n"
     ]
    }
   ],
   "source": [
    "# --- 7. TRAIN AN IMPROVED RANDOM FOREST (WITH CLASS WEIGHTS) ---\n",
    "\n",
    "print(\"\\n\\n--- Improved Random Forest Evaluation (with class_weight='balanced') ---\")\n",
    "\n",
    "# Step 1: Create and Train the model with the new parameter\n",
    "# -----------------------------------------------------------\n",
    "# By setting class_weight='balanced', we are telling the model to give more\n",
    "# weight to the minority class (Churn) during training.\n",
    "rf_balanced = RandomForestClassifier(n_estimators=100, random_state=42, class_weight='balanced')\n",
    "\n",
    "# Train the model on the original (unscaled) training data\n",
    "rf_balanced.fit(X_train, y_train)\n",
    "print(\"Balanced Random Forest model trained successfully!\")\n",
    "\n",
    "\n",
    "# Step 2: Make predictions and evaluate\n",
    "# -------------------------------------\n",
    "y_pred_rf_balanced = rf_balanced.predict(X_test)\n",
    "\n",
    "# Accuracy\n",
    "accuracy_rf_balanced = accuracy_score(y_test, y_pred_rf_balanced)\n",
    "print(f\"Accuracy: {accuracy_rf_balanced:.4f}\")\n",
    "\n",
    "# Classification Report\n",
    "print(\"\\nClassification Report:\")\n",
    "report_rf_balanced = classification_report(y_test, y_pred_rf_balanced, target_names=['No Churn', 'Churn'])\n",
    "print(report_rf_balanced)"
   ]
  },
  {
   "cell_type": "code",
   "execution_count": 8,
   "id": "ce7c1668",
   "metadata": {},
   "outputs": [
    {
     "name": "stdout",
     "output_type": "stream",
     "text": [
      "\n",
      "\n",
      "--- Hyperparameter Tuning Random Forest ---\n",
      "Starting the search for the best hyperparameters...\n",
      "Fitting 5 folds for each of 50 candidates, totalling 250 fits\n",
      "Search complete!\n",
      "\n",
      "Best parameters found: {'n_estimators': 300, 'min_samples_split': 10, 'min_samples_leaf': 4, 'max_depth': None, 'class_weight': None}\n",
      "\n",
      "--- Tuned Random Forest - Final Evaluation ---\n",
      "Accuracy: 0.8126\n",
      "\n",
      "Classification Report:\n",
      "              precision    recall  f1-score   support\n",
      "\n",
      "    No Churn       0.84      0.92      0.88      1036\n",
      "       Churn       0.70      0.51      0.59       373\n",
      "\n",
      "    accuracy                           0.81      1409\n",
      "   macro avg       0.77      0.72      0.74      1409\n",
      "weighted avg       0.80      0.81      0.80      1409\n",
      "\n"
     ]
    }
   ],
   "source": [
    "# --- 8. HYPERPARAMETER TUNING THE RANDOM FOREST ---\n",
    "from sklearn.model_selection import RandomizedSearchCV\n",
    "import numpy as np\n",
    "\n",
    "print(\"\\n\\n--- Hyperparameter Tuning Random Forest ---\")\n",
    "\n",
    "# Step 1: Define the Hyperparameter Grid\n",
    "# ----------------------------------------\n",
    "# We are defining a 'search space' for RandomizedSearchCV to explore.\n",
    "param_grid = {\n",
    "    'n_estimators': [100, 200, 300, 400],  # Number of trees in the forest\n",
    "    'max_depth': [10, 20, 30, None],       # Maximum depth of the tree\n",
    "    'min_samples_split': [2, 5, 10],       # Minimum number of samples required to split a node\n",
    "    'min_samples_leaf': [1, 2, 4],         # Minimum number of samples required at each leaf node\n",
    "    'class_weight': ['balanced', None]     # Whether to use class weights\n",
    "}\n",
    "\n",
    "# Step 2: Set up RandomizedSearchCV\n",
    "# ---------------------------------\n",
    "# We are creating a search object. It will try 50 different combinations of\n",
    "# the parameters above, using 5-fold cross-validation for each.\n",
    "# n_jobs=-1 uses all available CPU cores to speed up the process.\n",
    "rf_for_tuning = RandomForestClassifier(random_state=42)\n",
    "\n",
    "random_search = RandomizedSearchCV(estimator=rf_for_tuning,\n",
    "                                   param_distributions=param_grid,\n",
    "                                   n_iter=50,  # Number of parameter settings that are sampled\n",
    "                                   cv=5,       # 5-fold cross-validation\n",
    "                                   verbose=2,  # Shows progress\n",
    "                                   random_state=42,\n",
    "                                   n_jobs=-1)\n",
    "\n",
    "# Step 3: Run the search\n",
    "# ----------------------\n",
    "# This is the part that will take a few minutes.\n",
    "print(\"Starting the search for the best hyperparameters...\")\n",
    "random_search.fit(X_train, y_train)\n",
    "print(\"Search complete!\")\n",
    "\n",
    "# Step 4: Get the best model and evaluate it\n",
    "# ------------------------------------------\n",
    "print(\"\\nBest parameters found:\", random_search.best_params_)\n",
    "\n",
    "# Use the best estimator found by the search\n",
    "best_rf = random_search.best_estimator_\n",
    "y_pred_best_rf = best_rf.predict(X_test)\n",
    "\n",
    "# Final Evaluation\n",
    "print(\"\\n--- Tuned Random Forest - Final Evaluation ---\")\n",
    "accuracy_best_rf = accuracy_score(y_test, y_pred_best_rf)\n",
    "print(f\"Accuracy: {accuracy_best_rf:.4f}\")\n",
    "\n",
    "print(\"\\nClassification Report:\")\n",
    "report_best_rf = classification_report(y_test, y_pred_best_rf, target_names=['No Churn', 'Churn'])\n",
    "print(report_best_rf)"
   ]
  },
  {
   "cell_type": "code",
   "execution_count": 9,
   "id": "2a25b8e3",
   "metadata": {},
   "outputs": [
    {
     "name": "stdout",
     "output_type": "stream",
     "text": [
      "\n",
      "--- Saving the final model and scaler ---\n",
      "Model and scaler saved successfully in the 'production_model' directory.\n"
     ]
    }
   ],
   "source": [
    "# --- 10. SAVE THE WINNING MODEL AND THE SCALER ---\n",
    "import joblib\n",
    "\n",
    "print(\"\\n--- Saving the final model and scaler ---\")\n",
    "\n",
    "# Create a directory to save the final model assets\n",
    "import os\n",
    "os.makedirs('production_model', exist_ok=True)\n",
    "\n",
    "# Save the Logistic Regression model\n",
    "joblib.dump(log_reg, 'production_model/churn_model.joblib')\n",
    "\n",
    "# Save the scaler\n",
    "joblib.dump(scaler, 'production_model/scaler.joblib')\n",
    "\n",
    "print(\"Model and scaler saved successfully in the 'production_model' directory.\")"
   ]
  },
  {
   "cell_type": "code",
   "execution_count": null,
   "id": "76ed87fe",
   "metadata": {},
   "outputs": [],
   "source": []
  }
 ],
 "metadata": {
  "kernelspec": {
   "display_name": "churn-project",
   "language": "python",
   "name": "python3"
  },
  "language_info": {
   "codemirror_mode": {
    "name": "ipython",
    "version": 3
   },
   "file_extension": ".py",
   "mimetype": "text/x-python",
   "name": "python",
   "nbconvert_exporter": "python",
   "pygments_lexer": "ipython3",
   "version": "3.10.0"
  }
 },
 "nbformat": 4,
 "nbformat_minor": 5
}
